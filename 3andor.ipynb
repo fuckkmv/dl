{
 "cells": [
  {
   "cell_type": "code",
   "execution_count": 1,
   "id": "a6525edf",
   "metadata": {},
   "outputs": [],
   "source": [
    "X = [0, 0, 1, 1]\n",
    "Y = [0, 1, 0, 1]"
   ]
  },
  {
   "cell_type": "code",
   "execution_count": 3,
   "id": "6e9a2772",
   "metadata": {},
   "outputs": [],
   "source": [
    "def check_error(X, Y, Z, w1, w2, b):\n",
    "    hats = []\n",
    "    err = []\n",
    "    for i in range(4):\n",
    "        hat = X[i]*w1 + Y[i]*w2 + b\n",
    "        hats.append(int(hat>0))\n",
    "    for i in range(4):\n",
    "        err.append(abs(Z[i] - hats[i]))\n",
    "    return err"
   ]
  },
  {
   "cell_type": "code",
   "execution_count": 4,
   "id": "818212f8",
   "metadata": {},
   "outputs": [
    {
     "data": {
      "text/plain": [
       "[-1, 0, 1]"
      ]
     },
     "execution_count": 4,
     "metadata": {},
     "output_type": "execute_result"
    }
   ],
   "source": [
    "list(range(-1, 2))"
   ]
  },
  {
   "cell_type": "code",
   "execution_count": 10,
   "id": "0efe93ef",
   "metadata": {},
   "outputs": [],
   "source": [
    "def find_weight(X, Y, Z):\n",
    "    poss = list(range(-10, 11))\n",
    "    for w1 in poss:\n",
    "        for w2 in poss:\n",
    "            for b in poss:\n",
    "                error = check_error(X, Y, Z, w1, w2, b)\n",
    "                if sum(error)==0:\n",
    "                    return w1, w2, b"
   ]
  },
  {
   "cell_type": "code",
   "execution_count": 11,
   "id": "3f989d27",
   "metadata": {},
   "outputs": [],
   "source": [
    "Zand = [0, 0, 0, 1]\n",
    "Zor = [0, 1, 1, 1]\n",
    "Znand = [1, 1, 1, 0]\n",
    "Znor = [1, 0, 0, 0]\n",
    "Zxor = [0, 1, 1, 0]"
   ]
  },
  {
   "cell_type": "code",
   "execution_count": 12,
   "id": "f336ee7e",
   "metadata": {},
   "outputs": [
    {
     "data": {
      "text/plain": [
       "{'w1': 1, 'w2': 1, 'b': -1}"
      ]
     },
     "execution_count": 12,
     "metadata": {},
     "output_type": "execute_result"
    }
   ],
   "source": [
    "dict(zip('w1 w2 b'.split(), find_weight(X, Y, Zand)))"
   ]
  },
  {
   "cell_type": "code",
   "execution_count": 13,
   "id": "69e3d85e",
   "metadata": {},
   "outputs": [
    {
     "data": {
      "text/plain": [
       "{'w1': 1, 'w2': 1, 'b': 0}"
      ]
     },
     "execution_count": 13,
     "metadata": {},
     "output_type": "execute_result"
    }
   ],
   "source": [
    "dict(zip('w1 w2 b'.split(), find_weight(X, Y, Zor)))"
   ]
  },
  {
   "cell_type": "code",
   "execution_count": 14,
   "id": "3cc8ec21",
   "metadata": {},
   "outputs": [
    {
     "data": {
      "text/plain": [
       "{'w1': -9, 'w2': -9, 'b': 10}"
      ]
     },
     "execution_count": 14,
     "metadata": {},
     "output_type": "execute_result"
    }
   ],
   "source": [
    "dict(zip('w1 w2 b'.split(), find_weight(X, Y, Znand)))"
   ]
  },
  {
   "cell_type": "code",
   "execution_count": 15,
   "id": "1069f89c",
   "metadata": {},
   "outputs": [
    {
     "data": {
      "text/plain": [
       "{'w1': -10, 'w2': -10, 'b': 1}"
      ]
     },
     "execution_count": 15,
     "metadata": {},
     "output_type": "execute_result"
    }
   ],
   "source": [
    "dict(zip('w1 w2 b'.split(), find_weight(X, Y, Znor)))"
   ]
  },
  {
   "cell_type": "code",
   "execution_count": null,
   "id": "a7d2d0b6",
   "metadata": {},
   "outputs": [],
   "source": []
  }
 ],
 "metadata": {
  "kernelspec": {
   "display_name": "Python 3 (ipykernel)",
   "language": "python",
   "name": "python3"
  },
  "language_info": {
   "codemirror_mode": {
    "name": "ipython",
    "version": 3
   },
   "file_extension": ".py",
   "mimetype": "text/x-python",
   "name": "python",
   "nbconvert_exporter": "python",
   "pygments_lexer": "ipython3",
   "version": "3.9.7"
  },
  "vscode": {
   "interpreter": {
    "hash": "b426e24ad6aa5a08e11f54094e52324877fc19775875eec67c46f5d8ac44eede"
   }
  }
 },
 "nbformat": 4,
 "nbformat_minor": 5
}
