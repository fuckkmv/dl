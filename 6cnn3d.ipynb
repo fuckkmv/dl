{
 "cells": [
  {
   "cell_type": "code",
   "execution_count": 1,
   "id": "da47399e",
   "metadata": {},
   "outputs": [],
   "source": [
    "from tensorflow import keras as kr"
   ]
  },
  {
   "cell_type": "code",
   "execution_count": 2,
   "id": "7d11cb8d",
   "metadata": {},
   "outputs": [],
   "source": [
    "(X_train, y_train), (X_test, y_test) = kr.datasets.cifar10.load_data()"
   ]
  },
  {
   "cell_type": "code",
   "execution_count": 3,
   "id": "ec01e6ff",
   "metadata": {
    "scrolled": false
   },
   "outputs": [
    {
     "data": {
      "text/plain": [
       "(50000, 32, 32, 3)"
      ]
     },
     "execution_count": 3,
     "metadata": {},
     "output_type": "execute_result"
    }
   ],
   "source": [
    "X_train.shape"
   ]
  },
  {
   "cell_type": "code",
   "execution_count": 4,
   "id": "7ffc4ccd",
   "metadata": {},
   "outputs": [],
   "source": [
    "X_train = X_train/255\n",
    "X_test = X_test/255"
   ]
  },
  {
   "cell_type": "code",
   "execution_count": 5,
   "id": "0b2fc95c",
   "metadata": {},
   "outputs": [],
   "source": [
    "model = kr.models.Sequential()\n",
    "\n",
    "model.add(kr.layers.Conv2D(32, 3, activation=kr.activations.relu, input_shape=(32, 32, 3)))\n",
    "model.add(kr.layers.MaxPool2D())\n",
    "model.add(kr.layers.Conv2D(64, 3, activation=kr.activations.relu))\n",
    "model.add(kr.layers.MaxPool2D())\n",
    "model.add(kr.layers.Conv2D(128, 3, activation=kr.activations.relu))\n",
    "model.add(kr.layers.MaxPool2D())\n",
    "model.add(kr.layers.GlobalAveragePooling2D())\n",
    "model.add(kr.layers.Dense(400, activation=kr.activations.relu))\n",
    "model.add(kr.layers.Dense(150, activation=kr.activations.relu))\n",
    "model.add(kr.layers.Dense(10, activation=kr.activations.softmax))\n",
    "\n",
    "model.compile(optimizer=kr.optimizers.Adam(), loss=kr.losses.sparse_categorical_crossentropy, metrics=[kr.metrics.sparse_categorical_accuracy])"
   ]
  },
  {
   "cell_type": "code",
   "execution_count": 6,
   "id": "aeeee1a3",
   "metadata": {
    "scrolled": true
   },
   "outputs": [
    {
     "name": "stdout",
     "output_type": "stream",
     "text": [
      "Epoch 1/10\n",
      "1563/1563 [==============================] - 31s 15ms/step - loss: 1.6413 - sparse_categorical_accuracy: 0.3809 - val_loss: 1.3212 - val_sparse_categorical_accuracy: 0.5180\n",
      "Epoch 2/10\n",
      "1563/1563 [==============================] - 12s 7ms/step - loss: 1.2571 - sparse_categorical_accuracy: 0.5443 - val_loss: 1.1729 - val_sparse_categorical_accuracy: 0.5823\n",
      "Epoch 3/10\n",
      "1563/1563 [==============================] - 12s 8ms/step - loss: 1.0870 - sparse_categorical_accuracy: 0.6123 - val_loss: 1.0522 - val_sparse_categorical_accuracy: 0.6227\n",
      "Epoch 4/10\n",
      "1563/1563 [==============================] - 12s 7ms/step - loss: 0.9766 - sparse_categorical_accuracy: 0.6538 - val_loss: 1.0095 - val_sparse_categorical_accuracy: 0.6451\n",
      "Epoch 5/10\n",
      "1563/1563 [==============================] - 11s 7ms/step - loss: 0.8954 - sparse_categorical_accuracy: 0.6852 - val_loss: 0.9713 - val_sparse_categorical_accuracy: 0.6583\n",
      "Epoch 6/10\n",
      "1563/1563 [==============================] - 11s 7ms/step - loss: 0.8129 - sparse_categorical_accuracy: 0.7134 - val_loss: 0.9002 - val_sparse_categorical_accuracy: 0.6877\n",
      "Epoch 7/10\n",
      "1563/1563 [==============================] - 12s 7ms/step - loss: 0.7520 - sparse_categorical_accuracy: 0.7358 - val_loss: 0.8908 - val_sparse_categorical_accuracy: 0.6908\n",
      "Epoch 8/10\n",
      "1563/1563 [==============================] - 12s 7ms/step - loss: 0.7006 - sparse_categorical_accuracy: 0.7534 - val_loss: 0.9499 - val_sparse_categorical_accuracy: 0.6804\n",
      "Epoch 9/10\n",
      "1563/1563 [==============================] - 12s 7ms/step - loss: 0.6565 - sparse_categorical_accuracy: 0.7679 - val_loss: 0.8588 - val_sparse_categorical_accuracy: 0.7037\n",
      "Epoch 10/10\n",
      "1563/1563 [==============================] - 12s 7ms/step - loss: 0.6188 - sparse_categorical_accuracy: 0.7816 - val_loss: 0.8694 - val_sparse_categorical_accuracy: 0.7068\n"
     ]
    }
   ],
   "source": [
    "history = model.fit(X_train, y_train, validation_data=(X_test, y_test), epochs=10)"
   ]
  },
  {
   "cell_type": "code",
   "execution_count": 7,
   "id": "d6ac9a34",
   "metadata": {
    "scrolled": true
   },
   "outputs": [
    {
     "name": "stdout",
     "output_type": "stream",
     "text": [
      "313/313 [==============================] - 1s 4ms/step\n"
     ]
    }
   ],
   "source": [
    "y_hat = model.predict(X_test)"
   ]
  },
  {
   "cell_type": "code",
   "execution_count": 8,
   "id": "9ef09ab7",
   "metadata": {},
   "outputs": [],
   "source": [
    "y_hat = y_hat.argmax(axis=1)"
   ]
  },
  {
   "cell_type": "code",
   "execution_count": 9,
   "id": "7e5bb6ee",
   "metadata": {},
   "outputs": [],
   "source": [
    "from sklearn.metrics import classification_report, confusion_matrix"
   ]
  },
  {
   "cell_type": "code",
   "execution_count": 10,
   "id": "54d72d93",
   "metadata": {
    "scrolled": true
   },
   "outputs": [
    {
     "name": "stdout",
     "output_type": "stream",
     "text": [
      "              precision    recall  f1-score   support\n",
      "\n",
      "           0       0.78      0.70      0.74      1000\n",
      "           1       0.80      0.86      0.83      1000\n",
      "           2       0.69      0.51      0.59      1000\n",
      "           3       0.49      0.61      0.54      1000\n",
      "           4       0.69      0.66      0.67      1000\n",
      "           5       0.63      0.59      0.61      1000\n",
      "           6       0.72      0.79      0.75      1000\n",
      "           7       0.81      0.68      0.74      1000\n",
      "           8       0.71      0.88      0.79      1000\n",
      "           9       0.82      0.77      0.79      1000\n",
      "\n",
      "    accuracy                           0.71     10000\n",
      "   macro avg       0.71      0.71      0.71     10000\n",
      "weighted avg       0.71      0.71      0.71     10000\n",
      "\n"
     ]
    }
   ],
   "source": [
    "print(classification_report(y_test, y_hat))"
   ]
  },
  {
   "cell_type": "code",
   "execution_count": 11,
   "id": "d6bdb23c",
   "metadata": {},
   "outputs": [
    {
     "name": "stdout",
     "output_type": "stream",
     "text": [
      "[[704  20  27  28  23   2  10   6 145  35]\n",
      " [ 12 861   1  10   3   6   8   0  41  58]\n",
      " [ 69  11 512 116  80  67  94  19  24   8]\n",
      " [ 17  11  38 612  43 135  74  24  27  19]\n",
      " [ 18   7  57  85 657  37  61  51  24   3]\n",
      " [  8  14  27 221  42 595  36  40  10   7]\n",
      " [ 11  13  39  83  26  16 787   4  16   5]\n",
      " [ 14  11  24  78  69  75  10 683  15  21]\n",
      " [ 39  27   5  13   3   3   4   4 884  18]\n",
      " [ 16  98   8  14   7   4   9  11  60 773]]\n"
     ]
    }
   ],
   "source": [
    "print(confusion_matrix(y_test, y_hat))"
   ]
  }
 ],
 "metadata": {
  "kernelspec": {
   "display_name": "Python 3 (ipykernel)",
   "language": "python",
   "name": "python3"
  },
  "language_info": {
   "codemirror_mode": {
    "name": "ipython",
    "version": 3
   },
   "file_extension": ".py",
   "mimetype": "text/x-python",
   "name": "python",
   "nbconvert_exporter": "python",
   "pygments_lexer": "ipython3",
   "version": "3.10.8"
  },
  "varInspector": {
   "cols": {
    "lenName": 16,
    "lenType": 16,
    "lenVar": 40
   },
   "kernels_config": {
    "python": {
     "delete_cmd_postfix": "",
     "delete_cmd_prefix": "del ",
     "library": "var_list.py",
     "varRefreshCmd": "print(var_dic_list())"
    },
    "r": {
     "delete_cmd_postfix": ") ",
     "delete_cmd_prefix": "rm(",
     "library": "var_list.r",
     "varRefreshCmd": "cat(var_dic_list()) "
    }
   },
   "types_to_exclude": [
    "module",
    "function",
    "builtin_function_or_method",
    "instance",
    "_Feature"
   ],
   "window_display": false
  }
 },
 "nbformat": 4,
 "nbformat_minor": 5
}
