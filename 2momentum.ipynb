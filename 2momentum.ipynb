{
 "cells": [
  {
   "cell_type": "code",
   "execution_count": 10,
   "id": "689c9cdd",
   "metadata": {},
   "outputs": [],
   "source": [
    "import numpy as np\n",
    "\n",
    "class LogisticRegression:\n",
    "    def __init__(self, learning_rate=0.01, momentum=0.9, epsilon=1e-8):\n",
    "        self.learning_rate = learning_rate\n",
    "        self.momentum = momentum\n",
    "        self.epsilon = epsilon\n",
    "        self.w = None\n",
    "        self.v = None\n",
    "        self.g2 = None\n",
    "    \n",
    "    def sigmoid(self, z):\n",
    "        return 1 / (1 + np.exp(-z))\n",
    "    \n",
    "    def predict_proba(self, X):\n",
    "        if self.w is None:\n",
    "            raise ValueError(\"Model not trained yet\")\n",
    "        return self.sigmoid(X @ self.w)\n",
    "    \n",
    "    def predict(self, X, threshold=0.5):\n",
    "        return (self.predict_proba(X) >= threshold).astype(int)\n",
    "    \n",
    "    def fit(self, X, y, n_epochs=1000, batch_size=32):\n",
    "        n_samples, n_features = X.shape\n",
    "        self.w = np.zeros((n_features, 1))\n",
    "        self.v = np.zeros((n_features, 1))\n",
    "        self.g2 = np.zeros((n_features, 1))\n",
    "        y = y.reshape(-1, 1)\n",
    "        for epoch in range(n_epochs):\n",
    "            shuffled_idx = np.random.permutation(n_samples)\n",
    "            for batch_idx in range(0, n_samples, batch_size):\n",
    "                batch_samples = shuffled_idx[batch_idx:batch_idx+batch_size]\n",
    "                X_batch = X[batch_samples]\n",
    "                y_batch = y[batch_samples]\n",
    "                y_pred = self.predict_proba(X_batch)\n",
    "                error = y_pred - y_batch\n",
    "                gradient = X_batch.T @ error / batch_size\n",
    "                self.g2 += gradient**2\n",
    "                adaptive_lr = self.learning_rate / (self.epsilon + np.sqrt(self.g2))\n",
    "                self.v = self.momentum * self.v - adaptive_lr * gradient\n",
    "                self.w += self.v"
   ]
  },
  {
   "cell_type": "code",
   "execution_count": 11,
   "id": "bcfcb068",
   "metadata": {},
   "outputs": [],
   "source": [
    "X, y = make_classification(n_samples=1000, n_features=5, n_informative=3, n_redundant=1, random_state=42)"
   ]
  },
  {
   "cell_type": "code",
   "execution_count": 13,
   "id": "f21ef2c9",
   "metadata": {},
   "outputs": [],
   "source": [
    "lr = LogisticRegression()"
   ]
  },
  {
   "cell_type": "code",
   "execution_count": 14,
   "id": "a1e51395",
   "metadata": {},
   "outputs": [],
   "source": [
    "lr.fit(X, y)"
   ]
  }
 ],
 "metadata": {
  "kernelspec": {
   "display_name": "Python 3 (ipykernel)",
   "language": "python",
   "name": "python3"
  },
  "language_info": {
   "codemirror_mode": {
    "name": "ipython",
    "version": 3
   },
   "file_extension": ".py",
   "mimetype": "text/x-python",
   "name": "python",
   "nbconvert_exporter": "python",
   "pygments_lexer": "ipython3",
   "version": "3.10.8"
  },
  "varInspector": {
   "cols": {
    "lenName": 16,
    "lenType": 16,
    "lenVar": 40
   },
   "kernels_config": {
    "python": {
     "delete_cmd_postfix": "",
     "delete_cmd_prefix": "del ",
     "library": "var_list.py",
     "varRefreshCmd": "print(var_dic_list())"
    },
    "r": {
     "delete_cmd_postfix": ") ",
     "delete_cmd_prefix": "rm(",
     "library": "var_list.r",
     "varRefreshCmd": "cat(var_dic_list()) "
    }
   },
   "types_to_exclude": [
    "module",
    "function",
    "builtin_function_or_method",
    "instance",
    "_Feature"
   ],
   "window_display": false
  }
 },
 "nbformat": 4,
 "nbformat_minor": 5
}
