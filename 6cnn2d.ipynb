{
 "cells": [
  {
   "cell_type": "code",
   "execution_count": 1,
   "id": "da47399e",
   "metadata": {},
   "outputs": [],
   "source": [
    "from tensorflow import keras as kr"
   ]
  },
  {
   "cell_type": "code",
   "execution_count": 2,
   "id": "7d11cb8d",
   "metadata": {},
   "outputs": [],
   "source": [
    "(X_train, y_train), (X_test, y_test) = kr.datasets.mnist.load_data()"
   ]
  },
  {
   "cell_type": "code",
   "execution_count": 3,
   "id": "ec01e6ff",
   "metadata": {},
   "outputs": [
    {
     "data": {
      "text/plain": [
       "(60000, 28, 28)"
      ]
     },
     "execution_count": 3,
     "metadata": {},
     "output_type": "execute_result"
    }
   ],
   "source": [
    "X_train.shape"
   ]
  },
  {
   "cell_type": "code",
   "execution_count": 4,
   "id": "7ffc4ccd",
   "metadata": {},
   "outputs": [],
   "source": [
    "X_train = X_train/255\n",
    "X_test = X_test/255"
   ]
  },
  {
   "cell_type": "code",
   "execution_count": 6,
   "id": "0b2fc95c",
   "metadata": {},
   "outputs": [],
   "source": [
    "model = kr.models.Sequential()\n",
    "\n",
    "model.add(kr.layers.Conv1D(32, 3, activation=kr.activations.relu, input_shape=(28, 28,)))\n",
    "model.add(kr.layers.MaxPool1D())\n",
    "model.add(kr.layers.Conv1D(64, 3, activation=kr.activations.relu))\n",
    "model.add(kr.layers.MaxPool1D())\n",
    "model.add(kr.layers.Conv1D(128, 3, activation=kr.activations.relu))\n",
    "model.add(kr.layers.MaxPool1D())\n",
    "model.add(kr.layers.GlobalAveragePooling1D())\n",
    "model.add(kr.layers.Dense(400, activation=kr.activations.relu))\n",
    "model.add(kr.layers.Dense(150, activation=kr.activations.relu))\n",
    "model.add(kr.layers.Dense(10, activation=kr.activations.softmax))\n",
    "\n",
    "model.compile(optimizer=kr.optimizers.Adam(), loss=kr.losses.sparse_categorical_crossentropy, metrics=[kr.metrics.sparse_categorical_accuracy])"
   ]
  },
  {
   "cell_type": "code",
   "execution_count": 9,
   "id": "aeeee1a3",
   "metadata": {
    "scrolled": true
   },
   "outputs": [
    {
     "name": "stdout",
     "output_type": "stream",
     "text": [
      "Epoch 1/10\n",
      "1875/1875 [==============================] - 20s 10ms/step - loss: 0.0782 - sparse_categorical_accuracy: 0.9764 - val_loss: 0.0747 - val_sparse_categorical_accuracy: 0.9768\n",
      "Epoch 2/10\n",
      "1875/1875 [==============================] - 18s 10ms/step - loss: 0.0639 - sparse_categorical_accuracy: 0.9807 - val_loss: 0.0733 - val_sparse_categorical_accuracy: 0.9783\n",
      "Epoch 3/10\n",
      "1875/1875 [==============================] - 18s 9ms/step - loss: 0.0514 - sparse_categorical_accuracy: 0.9847 - val_loss: 0.0658 - val_sparse_categorical_accuracy: 0.9805\n",
      "Epoch 4/10\n",
      "1875/1875 [==============================] - 14s 7ms/step - loss: 0.0437 - sparse_categorical_accuracy: 0.9862 - val_loss: 0.0664 - val_sparse_categorical_accuracy: 0.9820\n",
      "Epoch 5/10\n",
      "1875/1875 [==============================] - 14s 8ms/step - loss: 0.0375 - sparse_categorical_accuracy: 0.9887 - val_loss: 0.0684 - val_sparse_categorical_accuracy: 0.9830\n",
      "Epoch 6/10\n",
      "1875/1875 [==============================] - 15s 8ms/step - loss: 0.0336 - sparse_categorical_accuracy: 0.9895 - val_loss: 0.0712 - val_sparse_categorical_accuracy: 0.9808\n",
      "Epoch 7/10\n",
      "1875/1875 [==============================] - 23s 12ms/step - loss: 0.0305 - sparse_categorical_accuracy: 0.9904 - val_loss: 0.0569 - val_sparse_categorical_accuracy: 0.9841\n",
      "Epoch 8/10\n",
      "1875/1875 [==============================] - 42s 22ms/step - loss: 0.0271 - sparse_categorical_accuracy: 0.9916 - val_loss: 0.0654 - val_sparse_categorical_accuracy: 0.9828\n",
      "Epoch 9/10\n",
      "1875/1875 [==============================] - 35s 18ms/step - loss: 0.0247 - sparse_categorical_accuracy: 0.9923 - val_loss: 0.0816 - val_sparse_categorical_accuracy: 0.9815\n",
      "Epoch 10/10\n",
      "1875/1875 [==============================] - 23s 12ms/step - loss: 0.0248 - sparse_categorical_accuracy: 0.9923 - val_loss: 0.0749 - val_sparse_categorical_accuracy: 0.9832\n"
     ]
    }
   ],
   "source": [
    "history = model.fit(X_train, y_train, validation_data=(X_test, y_test), epochs=10)"
   ]
  },
  {
   "cell_type": "code",
   "execution_count": 10,
   "id": "d6ac9a34",
   "metadata": {
    "scrolled": true
   },
   "outputs": [
    {
     "name": "stdout",
     "output_type": "stream",
     "text": [
      "313/313 [==============================] - 4s 10ms/step\n"
     ]
    }
   ],
   "source": [
    "y_hat = model.predict(X_test)"
   ]
  },
  {
   "cell_type": "code",
   "execution_count": 11,
   "id": "9ef09ab7",
   "metadata": {},
   "outputs": [],
   "source": [
    "y_hat = y_hat.argmax(axis=1)"
   ]
  },
  {
   "cell_type": "code",
   "execution_count": 14,
   "id": "7e5bb6ee",
   "metadata": {},
   "outputs": [],
   "source": [
    "from sklearn.metrics import classification_report, confusion_matrix"
   ]
  },
  {
   "cell_type": "code",
   "execution_count": 13,
   "id": "54d72d93",
   "metadata": {
    "scrolled": true
   },
   "outputs": [
    {
     "name": "stdout",
     "output_type": "stream",
     "text": [
      "              precision    recall  f1-score   support\n",
      "\n",
      "           0       0.98      0.99      0.99       980\n",
      "           1       0.99      0.99      0.99      1135\n",
      "           2       0.97      0.99      0.98      1032\n",
      "           3       0.99      0.98      0.98      1010\n",
      "           4       0.97      0.99      0.98       982\n",
      "           5       0.99      0.98      0.98       892\n",
      "           6       0.99      0.98      0.99       958\n",
      "           7       0.98      0.98      0.98      1028\n",
      "           8       0.99      0.98      0.98       974\n",
      "           9       0.97      0.98      0.97      1009\n",
      "\n",
      "    accuracy                           0.98     10000\n",
      "   macro avg       0.98      0.98      0.98     10000\n",
      "weighted avg       0.98      0.98      0.98     10000\n",
      "\n"
     ]
    }
   ],
   "source": [
    "print(classification_report(y_test, y_hat))"
   ]
  },
  {
   "cell_type": "code",
   "execution_count": 18,
   "id": "9eea301f",
   "metadata": {},
   "outputs": [
    {
     "name": "stdout",
     "output_type": "stream",
     "text": [
      "[[ 972    1    1    0    3    0    1    2    0    0]\n",
      " [   1 1125    2    0    0    2    2    3    0    0]\n",
      " [   2    0 1020    1    1    0    0    8    0    0]\n",
      " [   0    0    7  985    0    6    0    4    3    5]\n",
      " [   0    0    1    0  973    0    5    0    0    3]\n",
      " [   2    1    0    5    1  870    2    2    2    7]\n",
      " [   5    3    0    0    4    0  943    0    2    1]\n",
      " [   0    1   12    0    0    1    0 1010    1    3]\n",
      " [   5    0    6    1    3    0    1    1  950    7]\n",
      " [   4    0    0    0   14    2    0    5    0  984]]\n"
     ]
    }
   ],
   "source": [
    "print(confusion_matrix(y_test, y_hat))"
   ]
  }
 ],
 "metadata": {
  "kernelspec": {
   "display_name": "Python 3 (ipykernel)",
   "language": "python",
   "name": "python3"
  },
  "language_info": {
   "codemirror_mode": {
    "name": "ipython",
    "version": 3
   },
   "file_extension": ".py",
   "mimetype": "text/x-python",
   "name": "python",
   "nbconvert_exporter": "python",
   "pygments_lexer": "ipython3",
   "version": "3.10.8"
  },
  "varInspector": {
   "cols": {
    "lenName": 16,
    "lenType": 16,
    "lenVar": 40
   },
   "kernels_config": {
    "python": {
     "delete_cmd_postfix": "",
     "delete_cmd_prefix": "del ",
     "library": "var_list.py",
     "varRefreshCmd": "print(var_dic_list())"
    },
    "r": {
     "delete_cmd_postfix": ") ",
     "delete_cmd_prefix": "rm(",
     "library": "var_list.r",
     "varRefreshCmd": "cat(var_dic_list()) "
    }
   },
   "types_to_exclude": [
    "module",
    "function",
    "builtin_function_or_method",
    "instance",
    "_Feature"
   ],
   "window_display": false
  }
 },
 "nbformat": 4,
 "nbformat_minor": 5
}
