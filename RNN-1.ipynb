{
 "cells": [
  {
   "cell_type": "code",
   "execution_count": 2,
   "id": "d7fc289a",
   "metadata": {},
   "outputs": [
    {
     "data": {
      "image/png": "[encoded data removed]",
      "text/plain": [
       "<Figure size 432x288 with 1 Axes>"
      ]
     },
     "metadata": {
      "needs_background": "light"
     },
     "output_type": "display_data"
    }
   ],
   "source": [
    "import pandas\n",
    "import matplotlib.pyplot as plt\n",
    "dataset = pandas.read_csv('airline-passengers.csv', usecols=[1], engine='python')\n",
    "plt.plot(dataset)\n",
    "plt.show()"
   ]
  },
  {
   "cell_type": "code",
   "execution_count": 27,
   "id": "8da9bb01",
   "metadata": {},
   "outputs": [],
   "source": [
    "import numpy as np\n",
    "import matplotlib.pyplot as plt\n",
    "import pandas as pd\n",
    "import tensorflow as tf\n",
    "from tensorflow.keras.models import Sequential\n",
    "from tensorflow.keras.layers import Dense\n",
    "from tensorflow.keras.layers import LSTM\n",
    "from keras.layers import Dense, Activation, SimpleRNN\n",
    "from sklearn.preprocessing import MinMaxScaler\n",
    "from sklearn.metrics import mean_squared_error"
   ]
  },
  {
   "cell_type": "code",
   "execution_count": 4,
   "id": "64e2e89b",
   "metadata": {},
   "outputs": [],
   "source": [
    "tf.random.set_seed(7)"
   ]
  },
  {
   "cell_type": "code",
   "execution_count": 5,
   "id": "f9bea91b",
   "metadata": {},
   "outputs": [],
   "source": [
    "\n",
    "dataframe = pd.read_csv('airline-passengers.csv', usecols=[1], engine='python')\n",
    "dataset = dataframe.values\n",
    "dataset = dataset.astype('float32')"
   ]
  },
  {
   "cell_type": "code",
   "execution_count": 15,
   "id": "b37eac2f",
   "metadata": {},
   "outputs": [
    {
     "data": {
      "text/plain": [
       "array([[0.01544401],\n",
       "       [0.02702703],\n",
       "       [0.05405405],\n",
       "       [0.04826255],\n",
       "       [0.03281853],\n",
       "       [0.05984557],\n",
       "       [0.08494207],\n",
       "       [0.08494207],\n",
       "       [0.06177607],\n",
       "       [0.02895753],\n",
       "       [0.        ],\n",
       "       [0.02702703],\n",
       "       [0.02123553],\n",
       "       [0.04247104],\n",
       "       [0.07142857],\n",
       "       [0.05984557],\n",
       "       [0.04054055],\n",
       "       [0.08687258],\n",
       "       [0.12741312],\n",
       "       [0.12741312],\n",
       "       [0.10424709],\n",
       "       [0.05598456],\n",
       "       [0.01930502],\n",
       "       [0.06949806],\n",
       "       [0.07915059],\n",
       "       [0.08880308],\n",
       "       [0.14285713],\n",
       "       [0.11389962],\n",
       "       [0.13127413],\n",
       "       [0.14285713],\n",
       "       [0.18339768],\n",
       "       [0.18339768],\n",
       "       [0.15444016],\n",
       "       [0.11196911],\n",
       "       [0.08108109],\n",
       "       [0.1196911 ],\n",
       "       [0.12934363],\n",
       "       [0.14671814],\n",
       "       [0.17181468],\n",
       "       [0.14864865],\n",
       "       [0.15250966],\n",
       "       [0.22007722],\n",
       "       [0.24324325],\n",
       "       [0.26640925],\n",
       "       [0.2027027 ],\n",
       "       [0.16795367],\n",
       "       [0.13127413],\n",
       "       [0.17374519],\n",
       "       [0.17760617],\n",
       "       [0.17760617],\n",
       "       [0.25482625],\n",
       "       [0.25289574],\n",
       "       [0.24131274],\n",
       "       [0.26833975],\n",
       "       [0.3088803 ],\n",
       "       [0.32432434],\n",
       "       [0.25675675],\n",
       "       [0.20656371],\n",
       "       [0.14671814],\n",
       "       [0.18725869],\n",
       "       [0.19305018],\n",
       "       [0.16216215],\n",
       "       [0.25289574],\n",
       "       [0.23745173],\n",
       "       [0.25096524],\n",
       "       [0.3088803 ],\n",
       "       [0.38223937],\n",
       "       [0.36486486],\n",
       "       [0.2992278 ],\n",
       "       [0.24131274],\n",
       "       [0.1911197 ],\n",
       "       [0.24131274],\n",
       "       [0.26640925],\n",
       "       [0.24903473],\n",
       "       [0.31467178],\n",
       "       [0.3185328 ],\n",
       "       [0.32046333],\n",
       "       [0.4073359 ],\n",
       "       [0.5019305 ],\n",
       "       [0.46911195],\n",
       "       [0.40154442],\n",
       "       [0.32818535],\n",
       "       [0.25675675],\n",
       "       [0.3359073 ],\n",
       "       [0.34749034],\n",
       "       [0.33397684],\n",
       "       [0.41119692],\n",
       "       [0.4034749 ],\n",
       "       [0.4131274 ],\n",
       "       [0.52123547],\n",
       "       [0.5965251 ],\n",
       "       [0.58108103],\n",
       "       [0.484556  ],\n",
       "       [0.3899614 ],\n",
       "       [0.3223938 ],\n",
       "       [0.3899614 ],\n",
       "       [0.4073359 ],\n",
       "       [0.3803089 ],\n",
       "       [0.48648646],\n",
       "       [0.47104248]], dtype=float32)"
      ]
     },
     "execution_count": 15,
     "metadata": {},
     "output_type": "execute_result"
    }
   ],
   "source": [
    "train"
   ]
  },
  {
   "cell_type": "code",
   "execution_count": 7,
   "id": "08089acf",
   "metadata": {},
   "outputs": [],
   "source": [
    "scaler = MinMaxScaler(feature_range=(0, 1))\n",
    "dataset = scaler.fit_transform(dataset)"
   ]
  },
  {
   "cell_type": "code",
   "execution_count": 9,
   "id": "3b3cb997",
   "metadata": {},
   "outputs": [
    {
     "name": "stdout",
     "output_type": "stream",
     "text": [
      "100 44\n"
     ]
    }
   ],
   "source": [
    "# split into train and test sets\n",
    "train_size = int(len(dataset) * 0.70)\n",
    "test_size = len(dataset) - train_size\n",
    "train, test = dataset[0:train_size,:], dataset[train_size:len(dataset),:]\n",
    "print(len(train), len(test))"
   ]
  },
  {
   "cell_type": "code",
   "execution_count": 12,
   "id": "498604f8",
   "metadata": {},
   "outputs": [],
   "source": [
    "# convert an array of values into a dataset matrix\n",
    "def create_dataset(dataset, look_back=1):\n",
    "    dataX, dataY = [], []\n",
    "    for i in range(len(dataset)-look_back-1):\n",
    "        a = dataset[i:(i+look_back), 0]\n",
    "        dataX.append(a)\n",
    "        dataY.append(dataset[i + look_back, 0])\n",
    "    return np.array(dataX), np.array(dataY)"
   ]
  },
  {
   "cell_type": "code",
   "execution_count": 16,
   "id": "dab88884",
   "metadata": {},
   "outputs": [],
   "source": [
    "# reshape into X=t and Y=t+1\n",
    "look_back = 1\n",
    "trainX, trainY = create_dataset(train, look_back)\n",
    "testX, testY = create_dataset(test, look_back)"
   ]
  },
  {
   "cell_type": "code",
   "execution_count": 18,
   "id": "5f0b856c",
   "metadata": {},
   "outputs": [
    {
     "data": {
      "text/plain": [
       "array([0.02702703, 0.05405405, 0.04826255, 0.03281853, 0.05984557,\n",
       "       0.08494207, 0.08494207, 0.06177607, 0.02895753, 0.        ,\n",
       "       0.02702703, 0.02123553, 0.04247104, 0.07142857, 0.05984557,\n",
       "       0.04054055, 0.08687258, 0.12741312, 0.12741312, 0.10424709,\n",
       "       0.05598456, 0.01930502, 0.06949806, 0.07915059, 0.08880308,\n",
       "       0.14285713, 0.11389962, 0.13127413, 0.14285713, 0.18339768,\n",
       "       0.18339768, 0.15444016, 0.11196911, 0.08108109, 0.1196911 ,\n",
       "       0.12934363, 0.14671814, 0.17181468, 0.14864865, 0.15250966,\n",
       "       0.22007722, 0.24324325, 0.26640925, 0.2027027 , 0.16795367,\n",
       "       0.13127413, 0.17374519, 0.17760617, 0.17760617, 0.25482625,\n",
       "       0.25289574, 0.24131274, 0.26833975, 0.3088803 , 0.32432434,\n",
       "       0.25675675, 0.20656371, 0.14671814, 0.18725869, 0.19305018,\n",
       "       0.16216215, 0.25289574, 0.23745173, 0.25096524, 0.3088803 ,\n",
       "       0.38223937, 0.36486486, 0.2992278 , 0.24131274, 0.1911197 ,\n",
       "       0.24131274, 0.26640925, 0.24903473, 0.31467178, 0.3185328 ,\n",
       "       0.32046333, 0.4073359 , 0.5019305 , 0.46911195, 0.40154442,\n",
       "       0.32818535, 0.25675675, 0.3359073 , 0.34749034, 0.33397684,\n",
       "       0.41119692, 0.4034749 , 0.4131274 , 0.52123547, 0.5965251 ,\n",
       "       0.58108103, 0.484556  , 0.3899614 , 0.3223938 , 0.3899614 ,\n",
       "       0.4073359 , 0.3803089 , 0.48648646], dtype=float32)"
      ]
     },
     "execution_count": 18,
     "metadata": {},
     "output_type": "execute_result"
    }
   ],
   "source": [
    "trainY"
   ]
  },
  {
   "cell_type": "code",
   "execution_count": 20,
   "id": "0c598aab",
   "metadata": {},
   "outputs": [],
   "source": [
    "# reshape input to be [samples, time steps, features]\n",
    "trainX = np.reshape(trainX, (trainX.shape[0], 1, trainX.shape[1]))\n",
    "testX = np.reshape(testX, (testX.shape[0], 1, testX.shape[1]))"
   ]
  },
  {
   "cell_type": "code",
   "execution_count": 28,
   "id": "9e435a8e",
   "metadata": {},
   "outputs": [
    {
     "name": "stdout",
     "output_type": "stream",
     "text": [
      "Epoch 1/100\n",
      "98/98 - 0s - loss: 0.0914 - 464ms/epoch - 5ms/step\n",
      "Epoch 2/100\n",
      "98/98 - 0s - loss: 0.0386 - 69ms/epoch - 706us/step\n",
      "Epoch 3/100\n",
      "98/98 - 0s - loss: 0.0311 - 65ms/epoch - 662us/step\n",
      "Epoch 4/100\n",
      "98/98 - 0s - loss: 0.0278 - 57ms/epoch - 586us/step\n",
      "Epoch 5/100\n",
      "98/98 - 0s - loss: 0.0246 - 48ms/epoch - 487us/step\n",
      "Epoch 6/100\n",
      "98/98 - 0s - loss: 0.0222 - 53ms/epoch - 537us/step\n",
      "Epoch 7/100\n",
      "98/98 - 0s - loss: 0.0195 - 79ms/epoch - 805us/step\n",
      "Epoch 8/100\n",
      "98/98 - 0s - loss: 0.0171 - 54ms/epoch - 556us/step\n",
      "Epoch 9/100\n",
      "98/98 - 0s - loss: 0.0151 - 109ms/epoch - 1ms/step\n",
      "Epoch 10/100\n",
      "98/98 - 0s - loss: 0.0132 - 56ms/epoch - 576us/step\n",
      "Epoch 11/100\n",
      "98/98 - 0s - loss: 0.0117 - 102ms/epoch - 1ms/step\n",
      "Epoch 12/100\n",
      "98/98 - 0s - loss: 0.0101 - 64ms/epoch - 650us/step\n",
      "Epoch 13/100\n",
      "98/98 - 0s - loss: 0.0087 - 67ms/epoch - 684us/step\n",
      "Epoch 14/100\n",
      "98/98 - 0s - loss: 0.0076 - 65ms/epoch - 659us/step\n",
      "Epoch 15/100\n",
      "98/98 - 0s - loss: 0.0065 - 78ms/epoch - 794us/step\n",
      "Epoch 16/100\n",
      "98/98 - 0s - loss: 0.0055 - 139ms/epoch - 1ms/step\n",
      "Epoch 17/100\n",
      "98/98 - 0s - loss: 0.0048 - 150ms/epoch - 2ms/step\n",
      "Epoch 18/100\n",
      "98/98 - 0s - loss: 0.0040 - 84ms/epoch - 854us/step\n",
      "Epoch 19/100\n",
      "98/98 - 0s - loss: 0.0036 - 80ms/epoch - 819us/step\n",
      "Epoch 20/100\n",
      "98/98 - 0s - loss: 0.0032 - 67ms/epoch - 688us/step\n",
      "Epoch 21/100\n",
      "98/98 - 0s - loss: 0.0029 - 56ms/epoch - 567us/step\n",
      "Epoch 22/100\n",
      "98/98 - 0s - loss: 0.0025 - 59ms/epoch - 604us/step\n",
      "Epoch 23/100\n",
      "98/98 - 0s - loss: 0.0024 - 57ms/epoch - 578us/step\n",
      "Epoch 24/100\n",
      "98/98 - 0s - loss: 0.0023 - 57ms/epoch - 584us/step\n",
      "Epoch 25/100\n",
      "98/98 - 0s - loss: 0.0023 - 83ms/epoch - 849us/step\n",
      "Epoch 26/100\n",
      "98/98 - 0s - loss: 0.0022 - 58ms/epoch - 590us/step\n",
      "Epoch 27/100\n",
      "98/98 - 0s - loss: 0.0022 - 59ms/epoch - 599us/step\n",
      "Epoch 28/100\n",
      "98/98 - 0s - loss: 0.0021 - 65ms/epoch - 661us/step\n",
      "Epoch 29/100\n",
      "98/98 - 0s - loss: 0.0021 - 74ms/epoch - 754us/step\n",
      "Epoch 30/100\n",
      "98/98 - 0s - loss: 0.0020 - 58ms/epoch - 597us/step\n",
      "Epoch 31/100\n",
      "98/98 - 0s - loss: 0.0021 - 66ms/epoch - 673us/step\n",
      "Epoch 32/100\n",
      "98/98 - 0s - loss: 0.0021 - 68ms/epoch - 692us/step\n",
      "Epoch 33/100\n",
      "98/98 - 0s - loss: 0.0021 - 48ms/epoch - 494us/step\n",
      "Epoch 34/100\n",
      "98/98 - 0s - loss: 0.0021 - 70ms/epoch - 719us/step\n",
      "Epoch 35/100\n",
      "98/98 - 0s - loss: 0.0021 - 62ms/epoch - 631us/step\n",
      "Epoch 36/100\n",
      "98/98 - 0s - loss: 0.0021 - 51ms/epoch - 521us/step\n",
      "Epoch 37/100\n",
      "98/98 - 0s - loss: 0.0021 - 52ms/epoch - 533us/step\n",
      "Epoch 38/100\n",
      "98/98 - 0s - loss: 0.0021 - 49ms/epoch - 504us/step\n",
      "Epoch 39/100\n",
      "98/98 - 0s - loss: 0.0021 - 84ms/epoch - 858us/step\n",
      "Epoch 40/100\n",
      "98/98 - 0s - loss: 0.0021 - 65ms/epoch - 659us/step\n",
      "Epoch 41/100\n",
      "98/98 - 0s - loss: 0.0021 - 51ms/epoch - 521us/step\n",
      "Epoch 42/100\n",
      "98/98 - 0s - loss: 0.0021 - 64ms/epoch - 657us/step\n",
      "Epoch 43/100\n",
      "98/98 - 0s - loss: 0.0021 - 52ms/epoch - 527us/step\n",
      "Epoch 44/100\n",
      "98/98 - 0s - loss: 0.0022 - 82ms/epoch - 840us/step\n",
      "Epoch 45/100\n",
      "98/98 - 0s - loss: 0.0021 - 57ms/epoch - 582us/step\n",
      "Epoch 46/100\n",
      "98/98 - 0s - loss: 0.0022 - 126ms/epoch - 1ms/step\n",
      "Epoch 47/100\n",
      "98/98 - 0s - loss: 0.0020 - 133ms/epoch - 1ms/step\n",
      "Epoch 48/100\n",
      "98/98 - 0s - loss: 0.0021 - 113ms/epoch - 1ms/step\n",
      "Epoch 49/100\n",
      "98/98 - 0s - loss: 0.0021 - 98ms/epoch - 1ms/step\n",
      "Epoch 50/100\n",
      "98/98 - 0s - loss: 0.0021 - 99ms/epoch - 1ms/step\n",
      "Epoch 51/100\n",
      "98/98 - 0s - loss: 0.0021 - 102ms/epoch - 1ms/step\n",
      "Epoch 52/100\n",
      "98/98 - 0s - loss: 0.0022 - 95ms/epoch - 971us/step\n",
      "Epoch 53/100\n",
      "98/98 - 0s - loss: 0.0022 - 152ms/epoch - 2ms/step\n",
      "Epoch 54/100\n",
      "98/98 - 0s - loss: 0.0021 - 121ms/epoch - 1ms/step\n",
      "Epoch 55/100\n",
      "98/98 - 0s - loss: 0.0021 - 53ms/epoch - 539us/step\n",
      "Epoch 56/100\n",
      "98/98 - 0s - loss: 0.0021 - 59ms/epoch - 600us/step\n",
      "Epoch 57/100\n",
      "98/98 - 0s - loss: 0.0021 - 50ms/epoch - 515us/step\n",
      "Epoch 58/100\n",
      "98/98 - 0s - loss: 0.0021 - 60ms/epoch - 611us/step\n",
      "Epoch 59/100\n",
      "98/98 - 0s - loss: 0.0021 - 61ms/epoch - 620us/step\n",
      "Epoch 60/100\n",
      "98/98 - 0s - loss: 0.0021 - 57ms/epoch - 584us/step\n",
      "Epoch 61/100\n",
      "98/98 - 0s - loss: 0.0021 - 76ms/epoch - 780us/step\n",
      "Epoch 62/100\n",
      "98/98 - 0s - loss: 0.0021 - 51ms/epoch - 524us/step\n",
      "Epoch 63/100\n",
      "98/98 - 0s - loss: 0.0021 - 74ms/epoch - 759us/step\n",
      "Epoch 64/100\n",
      "98/98 - 0s - loss: 0.0021 - 49ms/epoch - 505us/step\n",
      "Epoch 65/100\n",
      "98/98 - 0s - loss: 0.0021 - 52ms/epoch - 532us/step\n",
      "Epoch 66/100\n",
      "98/98 - 0s - loss: 0.0022 - 61ms/epoch - 622us/step\n",
      "Epoch 67/100\n",
      "98/98 - 0s - loss: 0.0021 - 73ms/epoch - 743us/step\n",
      "Epoch 68/100\n",
      "98/98 - 0s - loss: 0.0021 - 59ms/epoch - 603us/step\n",
      "Epoch 69/100\n",
      "98/98 - 0s - loss: 0.0022 - 50ms/epoch - 512us/step\n",
      "Epoch 70/100\n",
      "98/98 - 0s - loss: 0.0022 - 50ms/epoch - 510us/step\n",
      "Epoch 71/100\n",
      "98/98 - 0s - loss: 0.0020 - 50ms/epoch - 510us/step\n",
      "Epoch 72/100\n",
      "98/98 - 0s - loss: 0.0020 - 58ms/epoch - 589us/step\n",
      "Epoch 73/100\n",
      "98/98 - 0s - loss: 0.0021 - 51ms/epoch - 520us/step\n",
      "Epoch 74/100\n",
      "98/98 - 0s - loss: 0.0021 - 47ms/epoch - 476us/step\n",
      "Epoch 75/100\n",
      "98/98 - 0s - loss: 0.0021 - 51ms/epoch - 523us/step\n",
      "Epoch 76/100\n",
      "98/98 - 0s - loss: 0.0021 - 66ms/epoch - 678us/step\n",
      "Epoch 77/100\n",
      "98/98 - 0s - loss: 0.0021 - 53ms/epoch - 540us/step\n",
      "Epoch 78/100\n",
      "98/98 - 0s - loss: 0.0022 - 78ms/epoch - 793us/step\n",
      "Epoch 79/100\n",
      "98/98 - 0s - loss: 0.0021 - 50ms/epoch - 515us/step\n",
      "Epoch 80/100\n",
      "98/98 - 0s - loss: 0.0021 - 49ms/epoch - 505us/step\n",
      "Epoch 81/100\n",
      "98/98 - 0s - loss: 0.0021 - 50ms/epoch - 515us/step\n",
      "Epoch 82/100\n",
      "98/98 - 0s - loss: 0.0021 - 50ms/epoch - 509us/step\n",
      "Epoch 83/100\n",
      "98/98 - 0s - loss: 0.0021 - 76ms/epoch - 775us/step\n",
      "Epoch 84/100\n",
      "98/98 - 0s - loss: 0.0021 - 59ms/epoch - 605us/step\n",
      "Epoch 85/100\n",
      "98/98 - 0s - loss: 0.0021 - 52ms/epoch - 529us/step\n",
      "Epoch 86/100\n",
      "98/98 - 0s - loss: 0.0021 - 51ms/epoch - 525us/step\n",
      "Epoch 87/100\n",
      "98/98 - 0s - loss: 0.0020 - 61ms/epoch - 621us/step\n",
      "Epoch 88/100\n",
      "98/98 - 0s - loss: 0.0022 - 59ms/epoch - 599us/step\n",
      "Epoch 89/100\n",
      "98/98 - 0s - loss: 0.0021 - 51ms/epoch - 524us/step\n",
      "Epoch 90/100\n",
      "98/98 - 0s - loss: 0.0022 - 69ms/epoch - 704us/step\n",
      "Epoch 91/100\n",
      "98/98 - 0s - loss: 0.0021 - 51ms/epoch - 519us/step\n",
      "Epoch 92/100\n",
      "98/98 - 0s - loss: 0.0021 - 52ms/epoch - 530us/step\n",
      "Epoch 93/100\n",
      "98/98 - 0s - loss: 0.0021 - 66ms/epoch - 674us/step\n",
      "Epoch 94/100\n",
      "98/98 - 0s - loss: 0.0022 - 56ms/epoch - 570us/step\n",
      "Epoch 95/100\n",
      "98/98 - 0s - loss: 0.0020 - 72ms/epoch - 737us/step\n",
      "Epoch 96/100\n",
      "98/98 - 0s - loss: 0.0021 - 57ms/epoch - 584us/step\n",
      "Epoch 97/100\n",
      "98/98 - 0s - loss: 0.0021 - 50ms/epoch - 508us/step\n",
      "Epoch 98/100\n",
      "98/98 - 0s - loss: 0.0021 - 64ms/epoch - 657us/step\n",
      "Epoch 99/100\n",
      "98/98 - 0s - loss: 0.0021 - 77ms/epoch - 785us/step\n",
      "Epoch 100/100\n",
      "98/98 - 0s - loss: 0.0021 - 40ms/epoch - 408us/step\n"
     ]
    },
    {
     "data": {
      "text/plain": [
       "<keras.callbacks.History at 0x1e05c0e9f40>"
      ]
     },
     "execution_count": 28,
     "metadata": {},
     "output_type": "execute_result"
    }
   ],
   "source": [
    "# create and fit the LSTM network\n",
    "model = Sequential()\n",
    "model.add(SimpleRNN(4, input_shape=(1, look_back)))\n",
    "model.add(Dense(1))\n",
    "model.compile(loss='mean_squared_error', optimizer='adam')\n",
    "model.fit(trainX, trainY, epochs=100, batch_size=1, verbose=2)"
   ]
  },
  {
   "cell_type": "code",
   "execution_count": 29,
   "id": "19c7ef41",
   "metadata": {},
   "outputs": [
    {
     "data": {
      "image/png": "[encoded data removed]",
      "text/plain": [
       "<Figure size 432x288 with 1 Axes>"
      ]
     },
     "metadata": {
      "needs_background": "light"
     },
     "output_type": "display_data"
    }
   ],
   "source": [
    "# shift train predictions for plotting\n",
    "trainPredictPlot = np.empty_like(dataset)\n",
    "trainPredictPlot[:, :] = np.nan\n",
    "trainPredictPlot[look_back:len(trainPredict)+look_back, :] = trainPredict\n",
    "# shift test predictions for plotting\n",
    "testPredictPlot = np.empty_like(dataset)\n",
    "testPredictPlot[:, :] = np.nan\n",
    "testPredictPlot[len(trainPredict)+(look_back*2)+1:len(dataset)-1, :] = testPredict\n",
    "# plot baseline and predictions\n",
    "plt.plot(scaler.inverse_transform(dataset))\n",
    "plt.plot(trainPredictPlot)\n",
    "plt.plot(testPredictPlot)\n",
    "plt.show()"
   ]
  }
 ],
 "metadata": {
  "kernelspec": {
   "display_name": "Python 3",
   "language": "python",
   "name": "python3"
  },
  "language_info": {
   "codemirror_mode": {
    "name": "ipython",
    "version": 3
   },
   "file_extension": ".py",
   "mimetype": "text/x-python",
   "name": "python",
   "nbconvert_exporter": "python",
   "pygments_lexer": "ipython3",
   "version": "3.8.8"
  }
 },
 "nbformat": 4,
 "nbformat_minor": 5
}
